{
 "cells": [
  {
   "cell_type": "markdown",
   "metadata": {},
   "source": [
    "# Review this code\n",
    "\n",
    "https://github.com/PipelineAI/pipeline/tree/master/kubeflow/kubeflow-pipelines/taxi"
   ]
  },
  {
   "cell_type": "markdown",
   "metadata": {},
   "source": [
    "# Upload the Compiled KubeFlow Pipeline\n",
    "\n",
    "Use the following Upload URL:\n",
    "```\n",
    "https://raw.githubusercontent.com/PipelineAI/pipeline/master/kubeflow/kubeflow-pipelines/taxi/pipeline.yaml\n",
    "```"
   ]
  },
  {
   "cell_type": "markdown",
   "metadata": {},
   "source": [
    "![KubeFlow Upload Pipeline](https://raw.githubusercontent.com/PipelineAI/site/master/assets/img/kubeflow-upload-pipeline.png)\n",
    "\n",
    "![KubeFlow Upload Pipeline](https://raw.githubusercontent.com/PipelineAI/site/master/assets/img/kubeflow-upload-pipeline-2.png)"
   ]
  },
  {
   "cell_type": "markdown",
   "metadata": {},
   "source": [
    "# Run KubeFlow Pipeline\n",
    "\n",
    "![Run KubeFlow Pipeline](https://raw.githubusercontent.com/PipelineAI/site/master/assets/img/kubeflow-run-pipeline.png)"
   ]
  },
  {
   "cell_type": "markdown",
   "metadata": {},
   "source": [
    "# Verify Successful KubeFlow Pipeline Completion\n",
    "![KubeFlow Pipeline Completion](https://raw.githubusercontent.com/PipelineAI/site/master/assets/img/kubeflow-pipeline-complete.png)"
   ]
  },
  {
   "cell_type": "code",
   "execution_count": null,
   "metadata": {},
   "outputs": [],
   "source": []
  }
 ],
 "metadata": {
  "kernelspec": {
   "display_name": "Python 3",
   "language": "python",
   "name": "python3"
  },
  "language_info": {
   "codemirror_mode": {
    "name": "ipython",
    "version": 3
   },
   "file_extension": ".py",
   "mimetype": "text/x-python",
   "name": "python",
   "nbconvert_exporter": "python",
   "pygments_lexer": "ipython3",
   "version": "3.6.5"
  }
 },
 "nbformat": 4,
 "nbformat_minor": 2
}
