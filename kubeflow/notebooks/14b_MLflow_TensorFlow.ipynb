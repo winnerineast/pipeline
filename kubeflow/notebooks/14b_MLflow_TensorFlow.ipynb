{
 "cells": [
  {
   "cell_type": "code",
   "execution_count": null,
   "metadata": {},
   "outputs": [],
   "source": [
    "'''Trains and evaluate a simple MLP\n",
    "on the Reuters newswire topic classification task.\n",
    "'''\n",
    "from __future__ import print_function\n",
    "\n",
    "import pandas as pd\n",
    "import tensorflow as tf\n",
    "from tensorflow.python.saved_model import tag_constants\n",
    "\n",
    "import mlflow\n",
    "import mlflow.tensorflow\n",
    "from mlflow import pyfunc"
   ]
  },
  {
   "cell_type": "markdown",
   "metadata": {},
   "source": [
    "# Setup Experiment Tracker"
   ]
  },
  {
   "cell_type": "code",
   "execution_count": null,
   "metadata": {},
   "outputs": [],
   "source": [
    "tracking_uri='file:///mnt/pipelineai/users/experiments'\n",
    "mlflow.set_tracking_uri(tracking_uri)\n",
    "\n",
    "experiment_name = 'boston'\n",
    "mlflow.set_experiment(experiment_name)  \n",
    "\n",
    "import mlflow.tensorflow\n",
    "mlflow.tensorflow.autolog()"
   ]
  },
  {
   "cell_type": "markdown",
   "metadata": {},
   "source": [
    "# Import Training Data "
   ]
  },
  {
   "cell_type": "code",
   "execution_count": null,
   "metadata": {},
   "outputs": [],
   "source": [
    "# Builds, trains and evaluates a tf.estimator. Then, exports it for inference, logs the exported model\n",
    "# with MLflow, and loads the fitted model back as a PyFunc to make predictions.\n",
    "(x_train, y_train), (x_test, y_test) = tf.keras.datasets.boston_housing.load_data()\n",
    "# There are 13 features we are using for inference.\n",
    "feat_cols = [tf.feature_column.numeric_column(key=\"features\", shape=(x_train.shape[1],))]\n",
    "feat_spec = {\n",
    "    \"features\": tf.placeholder(\"float\", name=\"features\", shape=[None, x_train.shape[1]])}\n",
    "hidden_units = [50, 20]\n",
    "steps = 1000\n",
    "regressor = tf.estimator.DNNRegressor(hidden_units=hidden_units, feature_columns=feat_cols)\n",
    "train_input_fn = tf.estimator.inputs.numpy_input_fn({\"features\": x_train}, y_train,\n",
    "                                                    num_epochs=None, shuffle=True)"
   ]
  },
  {
   "cell_type": "markdown",
   "metadata": {},
   "source": [
    "# Start Training Run"
   ]
  },
  {
   "cell_type": "code",
   "execution_count": null,
   "metadata": {},
   "outputs": [],
   "source": [
    "with mlflow.start_run() as run:\n",
    "    mlflow.log_param(\"Hidden Units\", hidden_units)\n",
    "    mlflow.log_param(\"Steps\", steps)\n",
    "    regressor.train(train_input_fn, steps=steps)\n",
    "    test_input_fn = tf.estimator.inputs.numpy_input_fn({\"features\": x_test}, y_test,\n",
    "                                                       num_epochs=None, shuffle=True)\n",
    "    # Compute mean squared error\n",
    "    mse = regressor.evaluate(test_input_fn, steps=steps)\n",
    "    mlflow.log_metric(\"Mean Square Error\", mse['average_loss'])\n",
    "    # Building a receiver function for exporting\n",
    "    receiver_fn = tf.estimator.export.build_raw_serving_input_receiver_fn(feat_spec)\n",
    "    \n",
    "    saved_estimator_path = regressor.export_savedmodel('./saved-models/boston', receiver_fn).decode(\"utf-8\")\n",
    "    # Logging the saved model\n",
    "    mlflow.tensorflow.log_model(tf_saved_model_dir=saved_estimator_path,\n",
    "                                tf_meta_graph_tags=[tag_constants.SERVING],\n",
    "                                tf_signature_def_key=\"predict\",\n",
    "                                artifact_path=\"model\")    "
   ]
  },
  {
   "cell_type": "markdown",
   "metadata": {},
   "source": [
    "# Predict with the Model"
   ]
  },
  {
   "cell_type": "code",
   "execution_count": null,
   "metadata": {
    "scrolled": true
   },
   "outputs": [],
   "source": [
    "# Resume the run by passing run id from above\n",
    "with mlflow.start_run(run_id=run.info.run_id) as run:\n",
    "    # Reload the model and predict\n",
    "    pyfunc_model = mlflow.pyfunc.load_model(mlflow.get_artifact_uri('model'))\n",
    "\n",
    "    # Predict with the loaded Python Function\n",
    "    df = pd.DataFrame(data=x_test, columns=[\"features\"] * x_train.shape[1])\n",
    "    predict_df = pyfunc_model.predict(df)\n",
    "    predict_df['original_labels'] = y_test\n",
    "    print(predict_df)"
   ]
  },
  {
   "cell_type": "markdown",
   "metadata": {},
   "source": [
    "# Check the MLflow Pipelines Tab\n",
    "![MLflow Pipeline](https://raw.githubusercontent.com/PipelineAI/site/master/assets/img/mlflow-pipeline3.png)"
   ]
  },
  {
   "cell_type": "code",
   "execution_count": null,
   "metadata": {},
   "outputs": [],
   "source": []
  }
 ],
 "metadata": {
  "kernelspec": {
   "display_name": "Python 3",
   "language": "python",
   "name": "python3"
  },
  "language_info": {
   "codemirror_mode": {
    "name": "ipython",
    "version": 3
   },
   "file_extension": ".py",
   "mimetype": "text/x-python",
   "name": "python",
   "nbconvert_exporter": "python",
   "pygments_lexer": "ipython3",
   "version": "3.6.5"
  }
 },
 "nbformat": 4,
 "nbformat_minor": 2
}
