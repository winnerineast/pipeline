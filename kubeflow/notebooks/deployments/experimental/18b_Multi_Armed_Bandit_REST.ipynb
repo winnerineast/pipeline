{
 "cells": [
  {
   "cell_type": "code",
   "execution_count": null,
   "metadata": {},
   "outputs": [],
   "source": [
    "!kubectl create -f deployments/mab-model.yaml"
   ]
  },
  {
   "cell_type": "code",
   "execution_count": null,
   "metadata": {},
   "outputs": [],
   "source": [
    "!cat deployments/mab-model.yaml"
   ]
  },
  {
   "cell_type": "markdown",
   "metadata": {},
   "source": [
    "# Predict\n",
    "Notes:\n",
    "* Change the `<ip-address>` below with the ip/hostname in your browser url\n",
    "* If you see `<!DOCTYPE html>` or `upstream error`, please try again in a bit\n",
    "* The model servers may take 30-60 seconds to start, so please be patient"
   ]
  },
  {
   "cell_type": "code",
   "execution_count": null,
   "metadata": {
    "scrolled": true
   },
   "outputs": [],
   "source": [
    "%%bash\n",
    "\n",
    "curl \\\n",
    "  http://<ip-address>/seldon/deployment/mab-model/api/v0.1/predictions \\\n",
    "  -d '{\"data\":{\"names\":[\"a\",\"b\"],\"tensor\":{\"shape\":[2,2],\"values\":[0,0,1,1]}}}' \\\n",
    "  -H \"Content-Type: application/json\"\n"
   ]
  },
  {
   "cell_type": "markdown",
   "metadata": {},
   "source": [
    "# Feedback / Reward"
   ]
  },
  {
   "cell_type": "code",
   "execution_count": null,
   "metadata": {},
   "outputs": [],
   "source": [
    "%%bash\n",
    "\n",
    "curl \\\n",
    "  http://mab-model-abtest-eg-router-seldonio-mab-epsilon-greedy-1-3:9000/send-feedback \\\n",
    "  -d '{\"request\":{\"data\":{\"names\":[\"a\",\"b\"],\"tensor\":{\"shape\":[1,2],\"values\":[0,1]}}},\"response\":{\"data\":{\"names\":[\"a\",\"b\"],\"tensor\":{\"shape\":[1,1],\"values\":[0.9]}}},\"reward\":1}' \\\n",
    "  -H \"Content-Type: application/json\"\n"
   ]
  },
  {
   "cell_type": "markdown",
   "metadata": {},
   "source": [
    "# Current Feedback for a Given Route"
   ]
  },
  {
   "cell_type": "code",
   "execution_count": null,
   "metadata": {
    "scrolled": true
   },
   "outputs": [],
   "source": [
    "%%bash\n",
    "\n",
    "curl \\\n",
    "  http://mab-model-abtest-eg-router-seldonio-mab-epsilon-greedy-1-3:9000/route \\\n",
    "  -d '{\"data\":{\"names\":[\"a\",\"b\"],\"tensor\":{\"shape\":[2,2],\"values\":[0,0,1,1]}}}' \\\n",
    "  -H \"Content-Type: application/json\"\n"
   ]
  },
  {
   "cell_type": "code",
   "execution_count": null,
   "metadata": {},
   "outputs": [],
   "source": []
  }
 ],
 "metadata": {
  "kernelspec": {
   "display_name": "Python 3",
   "language": "python",
   "name": "python3"
  },
  "language_info": {
   "codemirror_mode": {
    "name": "ipython",
    "version": 3
   },
   "file_extension": ".py",
   "mimetype": "text/x-python",
   "name": "python",
   "nbconvert_exporter": "python",
   "pygments_lexer": "ipython3",
   "version": "3.6.8"
  }
 },
 "nbformat": 4,
 "nbformat_minor": 2
}
