{
 "cells": [
  {
   "cell_type": "markdown",
   "metadata": {},
   "source": [
    "# DOPPELGANGER #"
   ]
  },
  {
   "cell_type": "markdown",
   "metadata": {},
   "source": [
    "## Ever wondered how your \"doppelganger\" dog would look like? "
   ]
  },
  {
   "cell_type": "markdown",
   "metadata": {},
   "source": [
    "# EXPERIMENT LOCALLY"
   ]
  },
  {
   "cell_type": "markdown",
   "metadata": {},
   "source": [
    "### Prepare Environment\n",
    "Install and import needed modules."
   ]
  },
  {
   "cell_type": "code",
   "execution_count": null,
   "metadata": {},
   "outputs": [],
   "source": [
    "import numpy as np\n",
    "import pandas as pd\n",
    "import os\n",
    "from tensorflow.keras.preprocessing.image import ImageDataGenerator\n",
    "from tensorflow.keras.applications.xception import Xception\n",
    "from tensorflow.keras.applications.xception import preprocess_input\n",
    "from sklearn.decomposition import PCA\n",
    "\n",
    "import matplotlib.pyplot as plt\n",
    "%matplotlib inline\n",
    "%config InlineBackend.figure_format = 'retina'"
   ]
  },
  {
   "cell_type": "markdown",
   "metadata": {},
   "source": [
    "Set image path and explore enivornment."
   ]
  },
  {
   "cell_type": "code",
   "execution_count": null,
   "metadata": {},
   "outputs": [],
   "source": [
    "images_path = 'code/training/Images'\n",
    "len(os.listdir(os.path.join(images_path)))"
   ]
  },
  {
   "cell_type": "markdown",
   "metadata": {},
   "source": [
    "Set parameters."
   ]
  },
  {
   "cell_type": "code",
   "execution_count": null,
   "metadata": {},
   "outputs": [],
   "source": [
    "batch_size = 200\n",
    "img_w_size = 299\n",
    "img_h_size = 299"
   ]
  },
  {
   "cell_type": "markdown",
   "metadata": {},
   "source": [
    "Build Data Generator"
   ]
  },
  {
   "cell_type": "code",
   "execution_count": null,
   "metadata": {},
   "outputs": [],
   "source": [
    "datagen = ImageDataGenerator(preprocessing_function=preprocess_input)\n",
    "\n",
    "image_generator = datagen.flow_from_directory(\n",
    "    images_path,\n",
    "    target_size=(img_w_size, img_h_size),\n",
    "    batch_size=batch_size,\n",
    "    class_mode=None,\n",
    "    shuffle=False)"
   ]
  },
  {
   "cell_type": "code",
   "execution_count": null,
   "metadata": {},
   "outputs": [],
   "source": [
    "images = image_generator.next()\n",
    "images.shape"
   ]
  },
  {
   "cell_type": "markdown",
   "metadata": {},
   "source": [
    "### Show a sample picture!"
   ]
  },
  {
   "cell_type": "code",
   "execution_count": null,
   "metadata": {},
   "outputs": [],
   "source": [
    "sample_image_idx = 1\n",
    "plt.imshow((images[sample_image_idx] + 1) / 2)"
   ]
  },
  {
   "cell_type": "markdown",
   "metadata": {},
   "source": [
    "## Transform Images to Lower Feature Space (Bottleneck) ##"
   ]
  },
  {
   "cell_type": "code",
   "execution_count": null,
   "metadata": {
    "scrolled": true
   },
   "outputs": [],
   "source": [
    "base_model = Xception(include_top=False,\n",
    "                      weights='imagenet',\n",
    "                      input_shape=(img_w_size, img_h_size, 3),\n",
    "                      pooling='avg')"
   ]
  },
  {
   "cell_type": "code",
   "execution_count": null,
   "metadata": {},
   "outputs": [],
   "source": [
    "bottlenecks = base_model.predict(images)\n",
    "bottlenecks.shape"
   ]
  },
  {
   "cell_type": "markdown",
   "metadata": {},
   "source": [
    "### Show Bottleneck"
   ]
  },
  {
   "cell_type": "code",
   "execution_count": null,
   "metadata": {},
   "outputs": [],
   "source": [
    "plt.plot(bottlenecks[0])\n",
    "plt.show()"
   ]
  },
  {
   "cell_type": "code",
   "execution_count": null,
   "metadata": {},
   "outputs": [],
   "source": [
    "from sklearn.neighbors import DistanceMetric\n",
    "dist = DistanceMetric.get_metric('euclidean')"
   ]
  },
  {
   "cell_type": "markdown",
   "metadata": {},
   "source": [
    "### Calculate pairwise distances"
   ]
  },
  {
   "cell_type": "code",
   "execution_count": null,
   "metadata": {},
   "outputs": [],
   "source": [
    "bn_dist = dist.pairwise(bottlenecks)\n",
    "bn_dist.shape"
   ]
  },
  {
   "cell_type": "markdown",
   "metadata": {},
   "source": [
    "## Pre-Process Image Similarities ##"
   ]
  },
  {
   "cell_type": "code",
   "execution_count": null,
   "metadata": {},
   "outputs": [],
   "source": [
    "plt.imshow(bn_dist, cmap='gray')"
   ]
  },
  {
   "cell_type": "markdown",
   "metadata": {},
   "source": [
    "Set visualization parameters."
   ]
  },
  {
   "cell_type": "code",
   "execution_count": null,
   "metadata": {},
   "outputs": [],
   "source": [
    "n_rows = 5\n",
    "n_cols = 5\n",
    "n_result_images = n_rows * n_cols"
   ]
  },
  {
   "cell_type": "markdown",
   "metadata": {},
   "source": [
    "# Find Similar Images #"
   ]
  },
  {
   "cell_type": "markdown",
   "metadata": {},
   "source": [
    "## Define `image_search()`"
   ]
  },
  {
   "cell_type": "code",
   "execution_count": null,
   "metadata": {},
   "outputs": [],
   "source": [
    "def image_search(img_index, n_rows=n_rows, n_columns=n_cols):\n",
    "    n_images = n_rows * n_cols\n",
    "\n",
    "    # create Pandas Series with distances from image\n",
    "    dist_from_sel = pd.Series(bn_dist[img_index])\n",
    "    \n",
    "    # sort Series and get top n_images\n",
    "    retrieved_indexes = dist_from_sel.sort_values().head(n_images)\n",
    "    retrieved_images = []\n",
    "    \n",
    "    # create figure, loop over closest images indices \n",
    "    # and display them\n",
    "    plt.figure(figsize=(10, 10))\n",
    "    i = 1\n",
    "    for idx in retrieved_indexes.index:\n",
    "        plt.subplot(n_rows, n_cols, i)\n",
    "        plt.imshow((images[idx] + 1) / 2)\n",
    "        if i == 1:\n",
    "            plt.title('Selected image')\n",
    "        else:\n",
    "            plt.title(\"Dist: {:0.4f}\".format(retrieved_indexes[idx]))\n",
    "        i += 1\n",
    "        retrieved_images += [images[idx]]\n",
    "        \n",
    "    plt.tight_layout()\n",
    "    \n",
    "    return np.array(retrieved_images)"
   ]
  },
  {
   "cell_type": "markdown",
   "metadata": {},
   "source": [
    "## Perform Image Search"
   ]
  },
  {
   "cell_type": "code",
   "execution_count": null,
   "metadata": {},
   "outputs": [],
   "source": [
    "similar_to_idx = 0\n",
    "plt.imshow((images[similar_to_idx] + 1) / 2)\n",
    "\n",
    "similar_images_sorted = image_search(similar_to_idx)\n",
    "similar_images_sorted.shape"
   ]
  },
  {
   "cell_type": "markdown",
   "metadata": {},
   "source": [
    "## Convert images to gray-scale ##"
   ]
  },
  {
   "cell_type": "code",
   "execution_count": null,
   "metadata": {},
   "outputs": [],
   "source": [
    "grayscaled_similar_images_sorted = similar_images_sorted.mean(axis=3)\n",
    "flattened_grayscale_images = grayscaled_similar_images_sorted.reshape(n_result_images, -1)\n",
    "flattened_grayscale_images.shape"
   ]
  },
  {
   "cell_type": "code",
   "execution_count": null,
   "metadata": {},
   "outputs": [],
   "source": [
    "_, h, w = grayscaled_similar_images_sorted.shape\n",
    "\n",
    "# Compute a PCA \n",
    "n_components = 10\n",
    "\n",
    "pca = PCA(n_components=n_components, whiten=True).fit(flattened_grayscale_images)\n",
    "\n",
    "# apply PCA transformation to training data\n",
    "pca_transformed = pca.transform(flattened_grayscale_images)"
   ]
  },
  {
   "cell_type": "markdown",
   "metadata": {},
   "source": [
    "## Visualize Eigenfaces"
   ]
  },
  {
   "cell_type": "code",
   "execution_count": null,
   "metadata": {},
   "outputs": [],
   "source": [
    "def plot_gallery(images, titles, h, w, rows=n_rows, cols=n_cols):\n",
    "    plt.figure()\n",
    "    for i in range(rows * cols):\n",
    "        plt.subplot(rows, cols, i + 1)\n",
    "        plt.imshow(images[i].reshape(h, w), cmap=plt.cm.gray)\n",
    "        plt.title(titles[i])\n",
    "        plt.xticks(())\n",
    "        plt.yticks(())\n",
    "\n",
    "eigenfaces = pca.components_.reshape((n_components, h, w))\n",
    "eigenface_titles = [\"eigenface {0}\".format(i) for i in range(eigenfaces.shape[0])]\n",
    "plot_gallery(eigenfaces, eigenface_titles, h, w, 3, 3)\n",
    "\n",
    "plt.show()"
   ]
  },
  {
   "cell_type": "markdown",
   "metadata": {},
   "source": [
    "## Show Average Face"
   ]
  },
  {
   "cell_type": "code",
   "execution_count": null,
   "metadata": {},
   "outputs": [],
   "source": [
    "average_face = eigenfaces[9]\n",
    "plt.imshow((average_face + 1) / 2)"
   ]
  },
  {
   "cell_type": "markdown",
   "metadata": {},
   "source": [
    "# BUILD CONTAINER"
   ]
  },
  {
   "cell_type": "code",
   "execution_count": 25,
   "metadata": {},
   "outputs": [
    {
     "name": "stdout",
     "output_type": "stream",
     "text": [
      "# References:\r\n",
      "#  https://towardsdatascience.com/an-intuitive-guide-to-deep-network-architectures-65fdc477db41\r\n",
      "#  https://scikit-learn.org/stable/modules/generated/sklearn.metrics.pairwise_distances.html\r\n",
      "\r\n",
      "import numpy as np\r\n",
      "import pandas as pd\r\n",
      "import os\r\n",
      "import time\r\n",
      "import random\r\n",
      "import json\r\n",
      "\r\n",
      "from tensorflow.keras.preprocessing.image import ImageDataGenerator\r\n",
      "from tensorflow.keras.applications.xception import Xception\r\n",
      "from tensorflow.keras.applications.xception import preprocess_input\r\n",
      "\r\n",
      "from sklearn.neighbors import DistanceMetric\r\n",
      "\r\n",
      "images_path = 'images/'\r\n",
      "batch_size = 200\r\n",
      "img_w_size = 299\r\n",
      "img_h_size = 299\r\n",
      "\r\n",
      "print('** LOADING IMAGES **')\r\n",
      "datagen = ImageDataGenerator(preprocessing_function=preprocess_input)\r\n",
      "image_generator = datagen.flow_from_directory(\r\n",
      "            images_path,\r\n",
      "            target_size=(img_w_size, img_h_size),\r\n",
      "            batch_size=batch_size,\r\n",
      "            class_mode=None,\r\n",
      "            shuffle=False)\r\n",
      "# Note:  This needs to stay up here because we use it later to resolve the image name\r\n",
      "images = image_generator.next()\r\n",
      "print('** LOADED IMAGES **')\r\n",
      "\r\n",
      "# TODO: Convert this to a dict instead of an array\r\n",
      "#       See TODO's below for supporting tasks\r\n",
      "pairwise_top_25 = {} \r\n",
      "\r\n",
      "\r\n",
      "def train(num_result_images=25):\r\n",
      "    # Convert 2D image matrix => 1D bottleneck vector\r\n",
      "    print('\\n** GENERATING BOTTLENECKS bottlenecks.csv **')\r\n",
      "\r\n",
      "    # Setup model to convert 2D image matrix => 1D bottleneck vector\r\n",
      "    base_model = Xception(include_top=False,\r\n",
      "                          weights='imagenet',\r\n",
      "                          input_shape=(img_w_size, img_h_size, 3),\r\n",
      "                          pooling='avg')\r\n",
      "\r\n",
      "    bottlenecks = base_model.predict(images)\r\n",
      "\r\n",
      "    # TODO:  Change this to json\r\n",
      "    np.savetxt(\"bottleneck.csv\", bottlenecks, delimiter=\",\") \r\n",
      "    print('\\n** GENERATED BOTTLENECKS to bottleneck.csv **')\r\n",
      "\r\n",
      "    bottlenecks = np.loadtxt(\"bottleneck.csv\", delimiter=\",\")\r\n",
      "\r\n",
      "    print('\\n** GENERATING PAIRWISE pairwise_top_25.json **')\r\n",
      "    dist = DistanceMetric.get_metric('euclidean')\r\n",
      "\r\n",
      "    # Calculate pairwise distance -- O(n^2)\r\n",
      "    bottleneck_pairwise_dist = dist.pairwise(bottlenecks)\r\n",
      "\r\n",
      "    # Find the top 100 similar images per image\r\n",
      "    retrieved_images = []\r\n",
      "    for image_idx in range(0, len(bottleneck_pairwise_dist)):\r\n",
      "        retrieved_indexes = pd.Series(bottleneck_pairwise_dist[image_idx]).sort_values().head(num_result_images).index.tolist()\r\n",
      "        retrieved_indexes_int = list(map(lambda index: int(index), retrieved_indexes))\r\n",
      "\r\n",
      "        pairwise_top_25[image_idx] = retrieved_indexes_int\r\n",
      "\r\n",
      "    with open('pairwise_top_25.json', 'w') as fp:\r\n",
      "        json.dump(pairwise_top_25, fp)\r\n",
      "\r\n",
      "    print('\\n** GENERATED PAIRWISE to pairwise_top_25.json **')\r\n",
      "\r\n",
      "\r\n",
      "if __name__== \"__main__\":\r\n",
      "    start = time.time()\r\n",
      "    print(\"Start time: \", start)\r\n",
      "    try:\r\n",
      "        train()\r\n",
      "    finally:\r\n",
      "        end = time.time()\r\n",
      "        print(\"End time: \", end)\r\n",
      "        print(\"Total time taken: \", (end - start))\r\n",
      "    # test\r\n",
      "    image_idx = 0\r\n",
      "    top_25_images = pairwise_top_25[image_idx]\r\n",
      "    print('\\n** MOST SIMILAR IMAGES **')\r\n",
      "    print(top_25_images)\r\n"
     ]
    }
   ],
   "source": [
    "!cat code/training/doppelganger-train.py"
   ]
  },
  {
   "cell_type": "code",
   "execution_count": 26,
   "metadata": {},
   "outputs": [
    {
     "name": "stdout",
     "output_type": "stream",
     "text": [
      "FROM python:3.6-slim\r\n",
      "\r\n",
      "COPY images/ images/\r\n",
      "\r\n",
      "COPY requirements.txt requirements.txt\r\n",
      "RUN pip install -r requirements.txt\r\n",
      "\r\n",
      "COPY doppelganger-train.py doppelganger-train.py\r\n",
      "CMD [ \"python\", \"doppelganger-train.py\" ]\r\n",
      "\r\n"
     ]
    }
   ],
   "source": [
    "!cat code/training/Dockerfile"
   ]
  },
  {
   "cell_type": "code",
   "execution_count": 27,
   "metadata": {},
   "outputs": [
    {
     "name": "stdout",
     "output_type": "stream",
     "text": [
      "apiVersion: v1\r\n",
      "kind: Pod\r\n",
      "metadata:\r\n",
      "  name: doppelganger-train\r\n",
      "  namespace: deployment\r\n",
      "  labels:\r\n",
      "    app: doppelganger-train\r\n",
      "    type: training\r\n",
      "    framework: tensorflow\r\n",
      "spec:\r\n",
      "  restartPolicy: OnFailure\r\n",
      "  containers:\r\n",
      "  - name: doppelganger-train\r\n",
      "    image: antjebarth/doppelganger-train:1.0.0 \r\n",
      "    imagePullPolicy: Always\r\n",
      "    command:\r\n",
      "      - \"python\"\r\n",
      "      - \"doppelganger-train.py\"\r\n",
      "#    env:\r\n",
      "#      - name: AWS_REGION\r\n",
      "#        value: eu-central-1\r\n"
     ]
    }
   ],
   "source": [
    "!cat code/training/doppelganger-train-deploy.yaml"
   ]
  },
  {
   "cell_type": "markdown",
   "metadata": {},
   "source": [
    "# RUN TRAINING POD\n",
    "Deploy the training job to Kubernetes"
   ]
  },
  {
   "cell_type": "code",
   "execution_count": 33,
   "metadata": {},
   "outputs": [
    {
     "name": "stdout",
     "output_type": "stream",
     "text": [
      "pod/doppelganger-train created\r\n"
     ]
    }
   ],
   "source": [
    "!kubectl create -f code/training/doppelganger-train-deploy.yaml"
   ]
  },
  {
   "cell_type": "code",
   "execution_count": 39,
   "metadata": {},
   "outputs": [
    {
     "name": "stdout",
     "output_type": "stream",
     "text": [
      "/usr/local/lib/python3.6/site-packages/tensorflow/python/framework/dtypes.py:526: FutureWarning: Passing (type, 1) or '1type' as a synonym of type is deprecated; in a future version of numpy, it will be understood as (type, (1,)) / '(1,)type'.\n",
      "  _np_qint8 = np.dtype([(\"qint8\", np.int8, 1)])\n",
      "/usr/local/lib/python3.6/site-packages/tensorflow/python/framework/dtypes.py:527: FutureWarning: Passing (type, 1) or '1type' as a synonym of type is deprecated; in a future version of numpy, it will be understood as (type, (1,)) / '(1,)type'.\n",
      "  _np_quint8 = np.dtype([(\"quint8\", np.uint8, 1)])\n",
      "/usr/local/lib/python3.6/site-packages/tensorflow/python/framework/dtypes.py:528: FutureWarning: Passing (type, 1) or '1type' as a synonym of type is deprecated; in a future version of numpy, it will be understood as (type, (1,)) / '(1,)type'.\n",
      "  _np_qint16 = np.dtype([(\"qint16\", np.int16, 1)])\n",
      "/usr/local/lib/python3.6/site-packages/tensorflow/python/framework/dtypes.py:529: FutureWarning: Passing (type, 1) or '1type' as a synonym of type is deprecated; in a future version of numpy, it will be understood as (type, (1,)) / '(1,)type'.\n",
      "  _np_quint16 = np.dtype([(\"quint16\", np.uint16, 1)])\n",
      "/usr/local/lib/python3.6/site-packages/tensorflow/python/framework/dtypes.py:530: FutureWarning: Passing (type, 1) or '1type' as a synonym of type is deprecated; in a future version of numpy, it will be understood as (type, (1,)) / '(1,)type'.\n",
      "  _np_qint32 = np.dtype([(\"qint32\", np.int32, 1)])\n",
      "/usr/local/lib/python3.6/site-packages/tensorflow/python/framework/dtypes.py:535: FutureWarning: Passing (type, 1) or '1type' as a synonym of type is deprecated; in a future version of numpy, it will be understood as (type, (1,)) / '(1,)type'.\n",
      "  np_resource = np.dtype([(\"resource\", np.ubyte, 1)])\n",
      "WARNING:tensorflow:From /usr/local/lib/python3.6/site-packages/tensorflow/python/ops/resource_variable_ops.py:435: colocate_with (from tensorflow.python.framework.ops) is deprecated and will be removed in a future version.\n",
      "Instructions for updating:\n",
      "Colocations handled automatically by placer.\n",
      "** LOADING IMAGES **\n",
      "Found 20583 images belonging to 122 classes.\n",
      "** LOADED IMAGES **\n",
      "Start time:  1571675411.2719145\n",
      "\n",
      "** GENERATING BOTTLENECKS bottlenecks.csv **\n",
      "Downloading data from https://github.com/fchollet/deep-learning-models/releases/download/v0.4/xception_weights_tf_dim_ordering_tf_kernels_notop.h5\n",
      "83689472/83683744 [==============================] - 1s 0us/step\n",
      "2019-10-21 16:30:17.038400: I tensorflow/core/platform/cpu_feature_guard.cc:141] Your CPU supports instructions that this TensorFlow binary was not compiled to use: AVX2 AVX512F FMA\n",
      "2019-10-21 16:30:17.045826: I tensorflow/core/platform/profile_utils/cpu_utils.cc:94] CPU Frequency: 2000175000 Hz\n",
      "2019-10-21 16:30:17.047524: I tensorflow/compiler/xla/service/service.cc:150] XLA service 0x55659af62b80 executing computations on platform Host. Devices:\n",
      "2019-10-21 16:30:17.047571: I tensorflow/compiler/xla/service/service.cc:158]   StreamExecutor device (0): <undefined>, <undefined>\n",
      "\n",
      "** GENERATED BOTTLENECKS to bottleneck.csv **\n",
      "\n",
      "** GENERATING PAIRWISE pairwise_top_25.json **\n",
      "\n",
      "** GENERATED PAIRWISE to pairwise_top_25.json **\n",
      "End time:  1571675450.5442653\n",
      "Total time taken:  39.272350788116455\n",
      "\n",
      "** MOST SIMILAR IMAGES **\n",
      "[0, 53, 146, 180, 198, 65, 58, 169, 132, 197, 189, 185, 175, 187, 196, 85, 162, 104, 172, 117, 182, 159, 160, 193, 119]\n"
     ]
    }
   ],
   "source": [
    "!kubectl logs doppelganger-train -c doppelganger-train --namespace deployment"
   ]
  },
  {
   "cell_type": "code",
   "execution_count": 32,
   "metadata": {},
   "outputs": [
    {
     "name": "stdout",
     "output_type": "stream",
     "text": [
      "pod \"doppelganger-train\" deleted\r\n"
     ]
    }
   ],
   "source": [
    "!kubectl delete -f code/training/doppelganger-train-deploy.yaml"
   ]
  },
  {
   "cell_type": "markdown",
   "metadata": {},
   "source": [
    "# RUN INFERENCE POD\n",
    "Use the previously trained model and run an inference service on Kubernetes"
   ]
  },
  {
   "cell_type": "code",
   "execution_count": 35,
   "metadata": {},
   "outputs": [
    {
     "name": "stdout",
     "output_type": "stream",
     "text": [
      "import keras\r\n",
      "import sys\r\n",
      "import numpy as np\r\n",
      "import json\r\n",
      "\r\n",
      "class DoppelgangerModel(object):\r\n",
      "    def __init__(self):\r\n",
      "        print(\"\\n** LOADING MODEL from pairwise_top_25.json **\")\r\n",
      "        with open('pairwise_top_25.json') as fp:\r\n",
      "            self.model = json.load(fp) \r\n",
      "        print(\"\\n** LOADED MODEL from pairwise_top_25.json **\")\r\n",
      "\r\n",
      "    def predict(self, X, feature_names):\r\n",
      "        similar_image_arr = self.model[str(int(X[0]))]\r\n",
      "        return similar_image_arr\r\n",
      "\r\n",
      "if __name__== \"__main__\":\r\n",
      "    model = DoppelgangerModel()\r\n",
      "    print(model.predict([0], ['image_id']))\r\n"
     ]
    }
   ],
   "source": [
    "!cat code/inference/DoppelgangerModel.py"
   ]
  },
  {
   "cell_type": "code",
   "execution_count": 36,
   "metadata": {},
   "outputs": [
    {
     "name": "stdout",
     "output_type": "stream",
     "text": [
      "FROM python:3.6-slim\r\n",
      "\r\n",
      "COPY ./requirements.txt /app/requirements.txt\r\n",
      "WORKDIR /app\r\n",
      "RUN pip install -r requirements.txt\r\n",
      "COPY DoppelgangerModel.py /app\r\n",
      "COPY pairwise_top_25_v1.json pairwise_top_25.json\r\n",
      "\r\n",
      "ENV MODEL_NAME DoppelgangerModel \r\n",
      "ENV API_TYPE REST\r\n",
      "ENV SERVICE_TYPE MODEL\r\n",
      "ENV PERSISTENCE 0\r\n",
      "\r\n",
      "EXPOSE 5000 \r\n",
      "\r\n",
      "CMD exec seldon-core-microservice $MODEL_NAME $API_TYPE --service-type $SERVICE_TYPE --persistence $PERSISTENCE\r\n"
     ]
    }
   ],
   "source": [
    "!cat code/inference/Dockerfile-v1"
   ]
  },
  {
   "cell_type": "code",
   "execution_count": 37,
   "metadata": {},
   "outputs": [
    {
     "name": "stdout",
     "output_type": "stream",
     "text": [
      "apiVersion: machinelearning.seldon.io/v1alpha2\r\n",
      "kind: SeldonDeployment\r\n",
      "metadata:\r\n",
      "  generation: 1\r\n",
      "  labels:\r\n",
      "    app: seldon\r\n",
      "  name: doppelganger-model\r\n",
      "  namespace: deployment\r\n",
      "spec:\r\n",
      "  annotations:\r\n",
      "    seldon.io/engine-log-message-type: seldon.message.pair\r\n",
      "    seldon.io/engine-log-messages-externally: \"false\"\r\n",
      "    seldon.io/engine-log-requests: \"false\"\r\n",
      "    seldon.io/engine-log-responses: \"false\"\r\n",
      "    seldon.io/headless-svc: \"false\"\r\n",
      "  name: doppelganger-model\r\n",
      "  predictors:\r\n",
      "  - componentSpecs:\r\n",
      "    - spec:\r\n",
      "        containers:\r\n",
      "        - env:\r\n",
      "          - name: LOG_LEVEL\r\n",
      "            value: INFO\r\n",
      "          - name: PREDICTIVE_UNIT_SERVICE_PORT\r\n",
      "            value: \"5000\"\r\n",
      "          - name: PREDICTIVE_UNIT_ID\r\n",
      "            value: recommender\r\n",
      "          - name: PREDICTOR_ID\r\n",
      "            value: doppelganger-model \r\n",
      "          - name: SELDON_DEPLOYMENT_ID\r\n",
      "            value: doppelganger-model\r\n",
      "          image: antjebarth/doppelganger-predict:1.0.0 \r\n",
      "          imagePullPolicy: Always \r\n",
      "          lifecycle:\r\n",
      "            preStop:\r\n",
      "              exec:\r\n",
      "                command:\r\n",
      "                - /bin/sh\r\n",
      "                - -c\r\n",
      "                - /bin/sleep 10\r\n",
      "          livenessProbe:\r\n",
      "            failureThreshold: 3\r\n",
      "            initialDelaySeconds: 60\r\n",
      "            periodSeconds: 5\r\n",
      "            successThreshold: 1\r\n",
      "            tcpSocket:\r\n",
      "              port: http\r\n",
      "            timeoutSeconds: 1\r\n",
      "          name: recommender \r\n",
      "          ports:\r\n",
      "          - containerPort: 5000\r\n",
      "            name: http\r\n",
      "            protocol: TCP\r\n",
      "          readinessProbe:\r\n",
      "            failureThreshold: 3\r\n",
      "            initialDelaySeconds: 20\r\n",
      "            periodSeconds: 5\r\n",
      "            successThreshold: 1\r\n",
      "            tcpSocket:\r\n",
      "              port: http\r\n",
      "            timeoutSeconds: 1\r\n",
      "          resources:\r\n",
      "            requests:\r\n",
      "              memory: 1Mi\r\n",
      "          terminationMessagePath: /dev/termination-log\r\n",
      "          terminationMessagePolicy: File\r\n",
      "          volumeMounts:\r\n",
      "          - mountPath: /etc/podinfo\r\n",
      "            name: podinfo\r\n",
      "        dnsPolicy: ClusterFirst\r\n",
      "        restartPolicy: Always\r\n",
      "        schedulerName: default-scheduler\r\n",
      "        securityContext: {}\r\n",
      "        terminationGracePeriodSeconds: 20\r\n",
      "        volumes:\r\n",
      "        - downwardAPI:\r\n",
      "            defaultMode: 420\r\n",
      "            items:\r\n",
      "            - fieldRef:\r\n",
      "                apiVersion: v1\r\n",
      "                fieldPath: metadata.annotations\r\n",
      "              path: annotations\r\n",
      "          name: podinfo\r\n",
      "    graph:\r\n",
      "      children: []\r\n",
      "      endpoint:\r\n",
      "        service_host: localhost\r\n",
      "        service_port: 5000\r\n",
      "        type: REST\r\n",
      "      implementation: UNKNOWN_IMPLEMENTATION\r\n",
      "      name: recommender\r\n",
      "      type: MODEL\r\n",
      "    labels:\r\n",
      "      fluentd: \"true\"\r\n",
      "      version: v1\r\n",
      "    name: doppelganger-model\r\n",
      "    replicas: 1\r\n",
      "    svcOrchSpec:\r\n",
      "      env: []\r\n",
      "      resources:\r\n",
      "        requests:\r\n",
      "          cpu: \"0.1\"\r\n"
     ]
    }
   ],
   "source": [
    "!cat code/inference/doppelganger-predict-deploy.yaml"
   ]
  },
  {
   "cell_type": "markdown",
   "metadata": {},
   "source": [
    "### Deploy the service"
   ]
  },
  {
   "cell_type": "code",
   "execution_count": 41,
   "metadata": {
    "scrolled": true
   },
   "outputs": [
    {
     "name": "stdout",
     "output_type": "stream",
     "text": [
      "seldondeployment.machinelearning.seldon.io/doppelganger-model created\r\n"
     ]
    }
   ],
   "source": [
    "!kubectl create -f code/inference/doppelganger-predict-deploy.yaml"
   ]
  },
  {
   "cell_type": "markdown",
   "metadata": {},
   "source": [
    "### Make a prediction"
   ]
  },
  {
   "cell_type": "code",
   "execution_count": 22,
   "metadata": {},
   "outputs": [
    {
     "data": {
      "text/plain": [
       "<matplotlib.image.AxesImage at 0x7f8fac028630>"
      ]
     },
     "execution_count": 22,
     "metadata": {},
     "output_type": "execute_result"
    },
    {
     "data": {
      "image/png": "[encoded data removed]",
      "text/plain": [
       "<Figure size 432x288 with 1 Axes>"
      ]
     },
     "metadata": {
      "image/png": {
       "height": 251,
       "width": 258
      },
      "needs_background": "light"
     },
     "output_type": "display_data"
    }
   ],
   "source": [
    "plt.imshow((images[0] + 1) / 2)"
   ]
  },
  {
   "cell_type": "markdown",
   "metadata": {},
   "source": [
    "### Run a curl command to get a prediction from the REST API"
   ]
  },
  {
   "cell_type": "code",
   "execution_count": 47,
   "metadata": {},
   "outputs": [
    {
     "name": "stdout",
     "output_type": "stream",
     "text": [
      "{\r\n",
      "  \"meta\": {\r\n",
      "    \"puid\": \"ulq75rkrs2ur6kbsm9g4t8lp2s\",\r\n",
      "    \"tags\": {\r\n",
      "    },\r\n",
      "    \"routing\": {\r\n",
      "    },\r\n",
      "    \"requestPath\": {\r\n",
      "      \"recommender\": \"antjebarth/doppelganger-predict:1.0.0\"\r\n",
      "    },\r\n",
      "    \"metrics\": []\r\n",
      "  },\r\n",
      "  \"data\": {\r\n",
      "    \"names\": [],\r\n",
      "    \"ndarray\": [\"http://c0198e9d-istiosystem-istio-2af2-1928351968.eu-central-1.elb.amazonaws.com/notebook/doppelganger/doppelganger/view/doppelganger/code/training/images/n02085620-Chihuahua/n02085620_10976.jpg\", \"http://c0198e9d-istiosystem-istio-2af2-1928351968.eu-central-1.elb.amazonaws.com/notebook/doppelganger/doppelganger/view/doppelganger/code/training/images/n02087046-toy_terrier/n02087046_3211.jpg\", \"http://c0198e9d-istiosystem-istio-2af2-1928351968.eu-central-1.elb.amazonaws.com/notebook/doppelganger/doppelganger/view/doppelganger/code/training/images/n02089973-English_foxhound/n02089973_2484.jpg\", \"http://c0198e9d-istiosystem-istio-2af2-1928351968.eu-central-1.elb.amazonaws.com/notebook/doppelganger/doppelganger/view/doppelganger/code/training/images/n02109047-Great_Dane/n02109047_9604.jpg\", \"http://c0198e9d-istiosystem-istio-2af2-1928351968.eu-central-1.elb.amazonaws.com/notebook/doppelganger/doppelganger/view/doppelganger/code/training/images/n02110185-Siberian_husky/n02110185_3406.jpg\"]\r\n",
      "  }\r\n",
      "}"
     ]
    }
   ],
   "source": [
    "!curl https://community.cloud.pipeline.ai/seldon/deployment/doppelganger-model/api/v0.1/predictions -d '{\"data\":{\"ndarray\":[[0]]}}' -H \"Content-Type: application/json\""
   ]
  },
  {
   "cell_type": "markdown",
   "metadata": {},
   "source": [
    "### Clean up"
   ]
  },
  {
   "cell_type": "code",
   "execution_count": null,
   "metadata": {},
   "outputs": [],
   "source": [
    "!kubectl delete -f code/inference/doppelganger-predict-deploy.yaml"
   ]
  },
  {
   "cell_type": "code",
   "execution_count": null,
   "metadata": {},
   "outputs": [],
   "source": []
  }
 ],
 "metadata": {
  "kernelspec": {
   "display_name": "Python 3",
   "language": "python",
   "name": "python3"
  },
  "language_info": {
   "codemirror_mode": {
    "name": "ipython",
    "version": 3
   },
   "file_extension": ".py",
   "mimetype": "text/x-python",
   "name": "python",
   "nbconvert_exporter": "python",
   "pygments_lexer": "ipython3",
   "version": "3.6.8"
  }
 },
 "nbformat": 4,
 "nbformat_minor": 2
}
